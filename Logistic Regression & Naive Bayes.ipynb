{
 "cells": [
  {
   "cell_type": "markdown",
   "metadata": {},
   "source": [
    "## Multinomial Logistic Regression"
   ]
  },
  {
   "cell_type": "code",
   "execution_count": 3,
   "metadata": {},
   "outputs": [],
   "source": [
    "import pandas as pd\n",
    "import numpy as np\n",
    "import seaborn as sns\n",
    "import matplotlib.pyplot as plt"
   ]
  },
  {
   "cell_type": "code",
   "execution_count": 4,
   "metadata": {},
   "outputs": [],
   "source": [
    "data_train = pd.read_csv('Mnist-train.csv', header = None)\n",
    "data_test = pd.read_csv('Mnist-test.csv', header = None)"
   ]
  },
  {
   "cell_type": "code",
   "execution_count": 5,
   "metadata": {},
   "outputs": [
    {
     "data": {
      "text/html": [
       "<div>\n",
       "<style scoped>\n",
       "    .dataframe tbody tr th:only-of-type {\n",
       "        vertical-align: middle;\n",
       "    }\n",
       "\n",
       "    .dataframe tbody tr th {\n",
       "        vertical-align: top;\n",
       "    }\n",
       "\n",
       "    .dataframe thead th {\n",
       "        text-align: right;\n",
       "    }\n",
       "</style>\n",
       "<table border=\"1\" class=\"dataframe\">\n",
       "  <thead>\n",
       "    <tr style=\"text-align: right;\">\n",
       "      <th></th>\n",
       "      <th>0</th>\n",
       "      <th>1</th>\n",
       "      <th>2</th>\n",
       "      <th>3</th>\n",
       "      <th>4</th>\n",
       "      <th>5</th>\n",
       "      <th>6</th>\n",
       "      <th>7</th>\n",
       "      <th>8</th>\n",
       "      <th>9</th>\n",
       "      <th>10</th>\n",
       "      <th>11</th>\n",
       "      <th>12</th>\n",
       "      <th>13</th>\n",
       "      <th>14</th>\n",
       "      <th>15</th>\n",
       "      <th>16</th>\n",
       "    </tr>\n",
       "  </thead>\n",
       "  <tbody>\n",
       "    <tr>\n",
       "      <th>0</th>\n",
       "      <td>47</td>\n",
       "      <td>100</td>\n",
       "      <td>27</td>\n",
       "      <td>81</td>\n",
       "      <td>57</td>\n",
       "      <td>37</td>\n",
       "      <td>26</td>\n",
       "      <td>0</td>\n",
       "      <td>0</td>\n",
       "      <td>23</td>\n",
       "      <td>56</td>\n",
       "      <td>53</td>\n",
       "      <td>100</td>\n",
       "      <td>90</td>\n",
       "      <td>40</td>\n",
       "      <td>98</td>\n",
       "      <td>8</td>\n",
       "    </tr>\n",
       "    <tr>\n",
       "      <th>1</th>\n",
       "      <td>0</td>\n",
       "      <td>89</td>\n",
       "      <td>27</td>\n",
       "      <td>100</td>\n",
       "      <td>42</td>\n",
       "      <td>75</td>\n",
       "      <td>29</td>\n",
       "      <td>45</td>\n",
       "      <td>15</td>\n",
       "      <td>15</td>\n",
       "      <td>37</td>\n",
       "      <td>0</td>\n",
       "      <td>69</td>\n",
       "      <td>2</td>\n",
       "      <td>100</td>\n",
       "      <td>6</td>\n",
       "      <td>2</td>\n",
       "    </tr>\n",
       "    <tr>\n",
       "      <th>2</th>\n",
       "      <td>0</td>\n",
       "      <td>57</td>\n",
       "      <td>31</td>\n",
       "      <td>68</td>\n",
       "      <td>72</td>\n",
       "      <td>90</td>\n",
       "      <td>100</td>\n",
       "      <td>100</td>\n",
       "      <td>76</td>\n",
       "      <td>75</td>\n",
       "      <td>50</td>\n",
       "      <td>51</td>\n",
       "      <td>28</td>\n",
       "      <td>25</td>\n",
       "      <td>16</td>\n",
       "      <td>0</td>\n",
       "      <td>1</td>\n",
       "    </tr>\n",
       "    <tr>\n",
       "      <th>3</th>\n",
       "      <td>0</td>\n",
       "      <td>100</td>\n",
       "      <td>7</td>\n",
       "      <td>92</td>\n",
       "      <td>5</td>\n",
       "      <td>68</td>\n",
       "      <td>19</td>\n",
       "      <td>45</td>\n",
       "      <td>86</td>\n",
       "      <td>34</td>\n",
       "      <td>100</td>\n",
       "      <td>45</td>\n",
       "      <td>74</td>\n",
       "      <td>23</td>\n",
       "      <td>67</td>\n",
       "      <td>0</td>\n",
       "      <td>4</td>\n",
       "    </tr>\n",
       "    <tr>\n",
       "      <th>4</th>\n",
       "      <td>0</td>\n",
       "      <td>67</td>\n",
       "      <td>49</td>\n",
       "      <td>83</td>\n",
       "      <td>100</td>\n",
       "      <td>100</td>\n",
       "      <td>81</td>\n",
       "      <td>80</td>\n",
       "      <td>60</td>\n",
       "      <td>60</td>\n",
       "      <td>40</td>\n",
       "      <td>40</td>\n",
       "      <td>33</td>\n",
       "      <td>20</td>\n",
       "      <td>47</td>\n",
       "      <td>0</td>\n",
       "      <td>1</td>\n",
       "    </tr>\n",
       "  </tbody>\n",
       "</table>\n",
       "</div>"
      ],
      "text/plain": [
       "   0    1   2    3    4    5    6    7   8   9    10  11   12  13   14  15  16\n",
       "0  47  100  27   81   57   37   26    0   0  23   56  53  100  90   40  98   8\n",
       "1   0   89  27  100   42   75   29   45  15  15   37   0   69   2  100   6   2\n",
       "2   0   57  31   68   72   90  100  100  76  75   50  51   28  25   16   0   1\n",
       "3   0  100   7   92    5   68   19   45  86  34  100  45   74  23   67   0   4\n",
       "4   0   67  49   83  100  100   81   80  60  60   40  40   33  20   47   0   1"
      ]
     },
     "execution_count": 5,
     "metadata": {},
     "output_type": "execute_result"
    }
   ],
   "source": [
    "data_train.head()"
   ]
  },
  {
   "cell_type": "code",
   "execution_count": 6,
   "metadata": {},
   "outputs": [
    {
     "name": "stdout",
     "output_type": "stream",
     "text": [
      "<class 'pandas.core.frame.DataFrame'>\n",
      "RangeIndex: 7494 entries, 0 to 7493\n",
      "Data columns (total 17 columns):\n",
      "0     7494 non-null int64\n",
      "1     7494 non-null int64\n",
      "2     7494 non-null int64\n",
      "3     7494 non-null int64\n",
      "4     7494 non-null int64\n",
      "5     7494 non-null int64\n",
      "6     7494 non-null int64\n",
      "7     7494 non-null int64\n",
      "8     7494 non-null int64\n",
      "9     7494 non-null int64\n",
      "10    7494 non-null int64\n",
      "11    7494 non-null int64\n",
      "12    7494 non-null int64\n",
      "13    7494 non-null int64\n",
      "14    7494 non-null int64\n",
      "15    7494 non-null int64\n",
      "16    7494 non-null int64\n",
      "dtypes: int64(17)\n",
      "memory usage: 995.4 KB\n"
     ]
    }
   ],
   "source": [
    "data_train.info()"
   ]
  },
  {
   "cell_type": "code",
   "execution_count": 7,
   "metadata": {},
   "outputs": [],
   "source": [
    "X_train = data_train.iloc[:,:-1]\n",
    "y_train = data_train.iloc[:,-1]\n",
    "X_test = data_test.iloc[:,:-1]\n",
    "y_test = data_test.iloc[:,-1]"
   ]
  },
  {
   "cell_type": "code",
   "execution_count": 8,
   "metadata": {},
   "outputs": [
    {
     "name": "stdout",
     "output_type": "stream",
     "text": [
      "(7494, 16)\n",
      "(3498, 16)\n"
     ]
    }
   ],
   "source": [
    "print(X_train.shape)\n",
    "print(X_test.shape)"
   ]
  },
  {
   "cell_type": "code",
   "execution_count": 9,
   "metadata": {},
   "outputs": [],
   "source": [
    "def mk_labels(y):\n",
    "    y_new = np.zeros((y.shape[0],10))\n",
    "    j=0\n",
    "    for i in y:\n",
    "        y_new[j,i] = 1\n",
    "        j+=1\n",
    "    return y_new.astype(int)"
   ]
  },
  {
   "cell_type": "code",
   "execution_count": 10,
   "metadata": {},
   "outputs": [],
   "source": [
    "y_train_n = mk_labels(y_train)"
   ]
  },
  {
   "cell_type": "code",
   "execution_count": 11,
   "metadata": {},
   "outputs": [
    {
     "name": "stdout",
     "output_type": "stream",
     "text": [
      "0    8\n",
      "1    2\n",
      "2    1\n",
      "3    4\n",
      "4    1\n",
      "Name: 16, dtype: int64\n"
     ]
    }
   ],
   "source": [
    "print(y_train.head())"
   ]
  },
  {
   "cell_type": "code",
   "execution_count": 12,
   "metadata": {},
   "outputs": [
    {
     "name": "stdout",
     "output_type": "stream",
     "text": [
      "[[0 0 0 ... 0 1 0]\n",
      " [0 0 1 ... 0 0 0]\n",
      " [0 1 0 ... 0 0 0]\n",
      " ...\n",
      " [0 0 0 ... 0 0 0]\n",
      " [0 1 0 ... 0 0 0]\n",
      " [0 0 0 ... 1 0 0]]\n"
     ]
    }
   ],
   "source": [
    "print(y_train_n)"
   ]
  },
  {
   "cell_type": "code",
   "execution_count": 13,
   "metadata": {},
   "outputs": [],
   "source": [
    "X_train = X_train.values\n",
    "X_test = X_test.values"
   ]
  },
  {
   "cell_type": "code",
   "execution_count": 14,
   "metadata": {},
   "outputs": [],
   "source": [
    "X_train = np.concatenate((np.ones((X_train.shape[0],1)) , X_train) , axis = 1).astype(int)\n",
    "X_test = np.concatenate((np.ones((X_test.shape[0],1)) , X_test) , axis = 1).astype(int)"
   ]
  },
  {
   "cell_type": "code",
   "execution_count": 15,
   "metadata": {},
   "outputs": [],
   "source": [
    "def sigmoid(x):\n",
    "    return 1 / (1 + np.exp(-x))"
   ]
  },
  {
   "cell_type": "code",
   "execution_count": 18,
   "metadata": {},
   "outputs": [],
   "source": [
    "def stoch_opt(X_train, y_train, lr_rate, epochs):\n",
    "    W = np.zeros((10,X_train.shape[1]))\n",
    "    for _ in range(epochs):\n",
    "        lin = np.dot(X_train , np.transpose(W))\n",
    "        sig = sigmoid(lin)\n",
    "        W -= lr_rate * np.dot(np.transpose(sig - y_train) , X_train)\n",
    "    return W"
   ]
  },
  {
   "cell_type": "code",
   "execution_count": 58,
   "metadata": {},
   "outputs": [],
   "source": [
    "w = stoch_opt(X_train , y_train_n , 0.00001 , 400)"
   ]
  },
  {
   "cell_type": "code",
   "execution_count": 59,
   "metadata": {},
   "outputs": [],
   "source": [
    "pred_tr = sigmoid(np.dot(X_train, np.transpose(w)))"
   ]
  },
  {
   "cell_type": "code",
   "execution_count": 60,
   "metadata": {},
   "outputs": [],
   "source": [
    "pred_tr = np.argmax(pred_tr , axis=1)"
   ]
  },
  {
   "cell_type": "code",
   "execution_count": 61,
   "metadata": {},
   "outputs": [
    {
     "data": {
      "text/plain": [
       "0.8757672804910596"
      ]
     },
     "execution_count": 61,
     "metadata": {},
     "output_type": "execute_result"
    }
   ],
   "source": [
    "np.sum(y_train == pred_tr)/X_train.shape[0]"
   ]
  },
  {
   "cell_type": "code",
   "execution_count": 62,
   "metadata": {},
   "outputs": [],
   "source": [
    "y_test_n = mk_labels(y_test)\n",
    "pred_test = sigmoid(np.dot(X_test, np.transpose(w)))\n",
    "pred_test = np.argmax(pred_test , axis=1)"
   ]
  },
  {
   "cell_type": "code",
   "execution_count": 63,
   "metadata": {},
   "outputs": [
    {
     "data": {
      "text/plain": [
       "0.8198970840480274"
      ]
     },
     "execution_count": 63,
     "metadata": {},
     "output_type": "execute_result"
    }
   ],
   "source": [
    "np.sum(y_test == pred_test)/X_test.shape[0]"
   ]
  },
  {
   "cell_type": "markdown",
   "metadata": {},
   "source": [
    "The __accuracy__ for the test data is about __82%__"
   ]
  },
  {
   "cell_type": "markdown",
   "metadata": {},
   "source": [
    "## Naive Bayes"
   ]
  },
  {
   "cell_type": "markdown",
   "metadata": {},
   "source": [
    "p(c|x) is proportional to p(x|c)p(c) = p(x1|c)p(x2|c)...p(xd|c) (Markov property)"
   ]
  },
  {
   "cell_type": "code",
   "execution_count": 75,
   "metadata": {},
   "outputs": [],
   "source": [
    "priors = np.zeros((10,1))\n",
    "data_0 = data_train[data_train[16] == 0]\n",
    "data_1 = data_train[data_train[16] == 1]\n",
    "data_2 = data_train[data_train[16] == 2]\n",
    "data_3 = data_train[data_train[16] == 3]\n",
    "data_4 = data_train[data_train[16] == 4]\n",
    "data_5 = data_train[data_train[16] == 5]\n",
    "data_6 = data_train[data_train[16] == 6]\n",
    "data_7 = data_train[data_train[16] == 7]\n",
    "data_8 = data_train[data_train[16] == 8]\n",
    "data_9 = data_train[data_train[16] == 9]\n"
   ]
  },
  {
   "cell_type": "code",
   "execution_count": 89,
   "metadata": {},
   "outputs": [],
   "source": [
    "for i in range(10):\n",
    "    priors[i] =  np.sum(data_train[16] == i)/data_train.shape[0]"
   ]
  },
  {
   "cell_type": "code",
   "execution_count": 140,
   "metadata": {},
   "outputs": [],
   "source": [
    "means = data_train.groupby([16]).mean()\n",
    "variances = data_train.groupby([16]).var()"
   ]
  },
  {
   "cell_type": "code",
   "execution_count": 141,
   "metadata": {},
   "outputs": [
    {
     "data": {
      "text/html": [
       "<div>\n",
       "<style scoped>\n",
       "    .dataframe tbody tr th:only-of-type {\n",
       "        vertical-align: middle;\n",
       "    }\n",
       "\n",
       "    .dataframe tbody tr th {\n",
       "        vertical-align: top;\n",
       "    }\n",
       "\n",
       "    .dataframe thead th {\n",
       "        text-align: right;\n",
       "    }\n",
       "</style>\n",
       "<table border=\"1\" class=\"dataframe\">\n",
       "  <thead>\n",
       "    <tr style=\"text-align: right;\">\n",
       "      <th></th>\n",
       "      <th>0</th>\n",
       "      <th>1</th>\n",
       "      <th>2</th>\n",
       "      <th>3</th>\n",
       "      <th>4</th>\n",
       "      <th>5</th>\n",
       "      <th>6</th>\n",
       "      <th>7</th>\n",
       "      <th>8</th>\n",
       "      <th>9</th>\n",
       "      <th>10</th>\n",
       "      <th>11</th>\n",
       "      <th>12</th>\n",
       "      <th>13</th>\n",
       "      <th>14</th>\n",
       "      <th>15</th>\n",
       "    </tr>\n",
       "    <tr>\n",
       "      <th>16</th>\n",
       "      <th></th>\n",
       "      <th></th>\n",
       "      <th></th>\n",
       "      <th></th>\n",
       "      <th></th>\n",
       "      <th></th>\n",
       "      <th></th>\n",
       "      <th></th>\n",
       "      <th></th>\n",
       "      <th></th>\n",
       "      <th></th>\n",
       "      <th></th>\n",
       "      <th></th>\n",
       "      <th></th>\n",
       "      <th></th>\n",
       "      <th></th>\n",
       "    </tr>\n",
       "  </thead>\n",
       "  <tbody>\n",
       "    <tr>\n",
       "      <th>0</th>\n",
       "      <td>513.224153</td>\n",
       "      <td>227.248443</td>\n",
       "      <td>156.114405</td>\n",
       "      <td>472.359099</td>\n",
       "      <td>343.503203</td>\n",
       "      <td>306.617004</td>\n",
       "      <td>720.546335</td>\n",
       "      <td>138.795984</td>\n",
       "      <td>233.179637</td>\n",
       "      <td>519.272458</td>\n",
       "      <td>267.924631</td>\n",
       "      <td>508.978064</td>\n",
       "      <td>650.906506</td>\n",
       "      <td>166.090649</td>\n",
       "      <td>374.168599</td>\n",
       "      <td>549.095505</td>\n",
       "    </tr>\n",
       "    <tr>\n",
       "      <th>1</th>\n",
       "      <td>494.431689</td>\n",
       "      <td>323.482512</td>\n",
       "      <td>462.517640</td>\n",
       "      <td>251.865921</td>\n",
       "      <td>395.401041</td>\n",
       "      <td>116.145279</td>\n",
       "      <td>522.604545</td>\n",
       "      <td>421.209203</td>\n",
       "      <td>507.737931</td>\n",
       "      <td>747.148275</td>\n",
       "      <td>948.786025</td>\n",
       "      <td>450.877798</td>\n",
       "      <td>651.868099</td>\n",
       "      <td>107.569714</td>\n",
       "      <td>1322.149067</td>\n",
       "      <td>9.462656</td>\n",
       "    </tr>\n",
       "    <tr>\n",
       "      <th>2</th>\n",
       "      <td>352.197062</td>\n",
       "      <td>97.256896</td>\n",
       "      <td>392.528778</td>\n",
       "      <td>5.160633</td>\n",
       "      <td>296.543596</td>\n",
       "      <td>151.382482</td>\n",
       "      <td>348.867838</td>\n",
       "      <td>199.355997</td>\n",
       "      <td>354.471110</td>\n",
       "      <td>169.225476</td>\n",
       "      <td>166.885330</td>\n",
       "      <td>74.589531</td>\n",
       "      <td>143.733075</td>\n",
       "      <td>43.866489</td>\n",
       "      <td>38.889181</td>\n",
       "      <td>32.993088</td>\n",
       "    </tr>\n",
       "    <tr>\n",
       "      <th>3</th>\n",
       "      <td>389.287129</td>\n",
       "      <td>48.412915</td>\n",
       "      <td>377.905103</td>\n",
       "      <td>2.199437</td>\n",
       "      <td>177.704177</td>\n",
       "      <td>75.353520</td>\n",
       "      <td>263.381131</td>\n",
       "      <td>66.434629</td>\n",
       "      <td>294.986378</td>\n",
       "      <td>51.574510</td>\n",
       "      <td>140.661415</td>\n",
       "      <td>67.791683</td>\n",
       "      <td>136.855882</td>\n",
       "      <td>16.729747</td>\n",
       "      <td>95.189214</td>\n",
       "      <td>46.111022</td>\n",
       "    </tr>\n",
       "    <tr>\n",
       "      <th>4</th>\n",
       "      <td>570.316968</td>\n",
       "      <td>8.946519</td>\n",
       "      <td>303.214935</td>\n",
       "      <td>92.414693</td>\n",
       "      <td>111.341358</td>\n",
       "      <td>118.008565</td>\n",
       "      <td>966.394014</td>\n",
       "      <td>123.402646</td>\n",
       "      <td>379.097546</td>\n",
       "      <td>343.178649</td>\n",
       "      <td>184.633198</td>\n",
       "      <td>240.882565</td>\n",
       "      <td>302.845621</td>\n",
       "      <td>50.166031</td>\n",
       "      <td>668.516565</td>\n",
       "      <td>0.000000</td>\n",
       "    </tr>\n",
       "    <tr>\n",
       "      <th>5</th>\n",
       "      <td>812.958505</td>\n",
       "      <td>66.465490</td>\n",
       "      <td>1184.892907</td>\n",
       "      <td>408.315685</td>\n",
       "      <td>540.923688</td>\n",
       "      <td>865.107062</td>\n",
       "      <td>591.223487</td>\n",
       "      <td>1124.174314</td>\n",
       "      <td>712.280822</td>\n",
       "      <td>461.089777</td>\n",
       "      <td>1381.113025</td>\n",
       "      <td>468.779408</td>\n",
       "      <td>196.656745</td>\n",
       "      <td>1939.183725</td>\n",
       "      <td>2247.474548</td>\n",
       "      <td>2078.938369</td>\n",
       "    </tr>\n",
       "    <tr>\n",
       "      <th>6</th>\n",
       "      <td>353.320901</td>\n",
       "      <td>12.205216</td>\n",
       "      <td>332.028973</td>\n",
       "      <td>71.719748</td>\n",
       "      <td>204.318583</td>\n",
       "      <td>84.799983</td>\n",
       "      <td>93.243324</td>\n",
       "      <td>112.566603</td>\n",
       "      <td>499.274361</td>\n",
       "      <td>27.312904</td>\n",
       "      <td>483.553979</td>\n",
       "      <td>115.902573</td>\n",
       "      <td>286.503661</td>\n",
       "      <td>85.335557</td>\n",
       "      <td>159.810136</td>\n",
       "      <td>188.943345</td>\n",
       "    </tr>\n",
       "    <tr>\n",
       "      <th>7</th>\n",
       "      <td>70.522218</td>\n",
       "      <td>53.716226</td>\n",
       "      <td>401.393726</td>\n",
       "      <td>6.245816</td>\n",
       "      <td>285.671098</td>\n",
       "      <td>151.236251</td>\n",
       "      <td>306.828081</td>\n",
       "      <td>415.659108</td>\n",
       "      <td>412.049918</td>\n",
       "      <td>543.924065</td>\n",
       "      <td>715.161552</td>\n",
       "      <td>292.596026</td>\n",
       "      <td>457.344423</td>\n",
       "      <td>80.382588</td>\n",
       "      <td>805.436772</td>\n",
       "      <td>230.106282</td>\n",
       "    </tr>\n",
       "    <tr>\n",
       "      <th>8</th>\n",
       "      <td>916.544132</td>\n",
       "      <td>327.568915</td>\n",
       "      <td>780.046982</td>\n",
       "      <td>430.306267</td>\n",
       "      <td>1240.250894</td>\n",
       "      <td>863.317696</td>\n",
       "      <td>925.429252</td>\n",
       "      <td>852.226161</td>\n",
       "      <td>809.874543</td>\n",
       "      <td>377.172582</td>\n",
       "      <td>1241.446918</td>\n",
       "      <td>712.734659</td>\n",
       "      <td>870.211362</td>\n",
       "      <td>906.607118</td>\n",
       "      <td>1456.644070</td>\n",
       "      <td>415.464550</td>\n",
       "    </tr>\n",
       "    <tr>\n",
       "      <th>9</th>\n",
       "      <td>940.762263</td>\n",
       "      <td>399.954564</td>\n",
       "      <td>725.145595</td>\n",
       "      <td>420.747862</td>\n",
       "      <td>1214.169816</td>\n",
       "      <td>248.323647</td>\n",
       "      <td>940.347504</td>\n",
       "      <td>216.674079</td>\n",
       "      <td>898.418160</td>\n",
       "      <td>170.287226</td>\n",
       "      <td>204.274395</td>\n",
       "      <td>416.558560</td>\n",
       "      <td>297.475819</td>\n",
       "      <td>316.397120</td>\n",
       "      <td>937.953072</td>\n",
       "      <td>146.789916</td>\n",
       "    </tr>\n",
       "  </tbody>\n",
       "</table>\n",
       "</div>"
      ],
      "text/plain": [
       "            0           1            2           3            4           5   \\\n",
       "16                                                                             \n",
       "0   513.224153  227.248443   156.114405  472.359099   343.503203  306.617004   \n",
       "1   494.431689  323.482512   462.517640  251.865921   395.401041  116.145279   \n",
       "2   352.197062   97.256896   392.528778    5.160633   296.543596  151.382482   \n",
       "3   389.287129   48.412915   377.905103    2.199437   177.704177   75.353520   \n",
       "4   570.316968    8.946519   303.214935   92.414693   111.341358  118.008565   \n",
       "5   812.958505   66.465490  1184.892907  408.315685   540.923688  865.107062   \n",
       "6   353.320901   12.205216   332.028973   71.719748   204.318583   84.799983   \n",
       "7    70.522218   53.716226   401.393726    6.245816   285.671098  151.236251   \n",
       "8   916.544132  327.568915   780.046982  430.306267  1240.250894  863.317696   \n",
       "9   940.762263  399.954564   725.145595  420.747862  1214.169816  248.323647   \n",
       "\n",
       "            6            7           8           9            10          11  \\\n",
       "16                                                                             \n",
       "0   720.546335   138.795984  233.179637  519.272458   267.924631  508.978064   \n",
       "1   522.604545   421.209203  507.737931  747.148275   948.786025  450.877798   \n",
       "2   348.867838   199.355997  354.471110  169.225476   166.885330   74.589531   \n",
       "3   263.381131    66.434629  294.986378   51.574510   140.661415   67.791683   \n",
       "4   966.394014   123.402646  379.097546  343.178649   184.633198  240.882565   \n",
       "5   591.223487  1124.174314  712.280822  461.089777  1381.113025  468.779408   \n",
       "6    93.243324   112.566603  499.274361   27.312904   483.553979  115.902573   \n",
       "7   306.828081   415.659108  412.049918  543.924065   715.161552  292.596026   \n",
       "8   925.429252   852.226161  809.874543  377.172582  1241.446918  712.734659   \n",
       "9   940.347504   216.674079  898.418160  170.287226   204.274395  416.558560   \n",
       "\n",
       "            12           13           14           15  \n",
       "16                                                     \n",
       "0   650.906506   166.090649   374.168599   549.095505  \n",
       "1   651.868099   107.569714  1322.149067     9.462656  \n",
       "2   143.733075    43.866489    38.889181    32.993088  \n",
       "3   136.855882    16.729747    95.189214    46.111022  \n",
       "4   302.845621    50.166031   668.516565     0.000000  \n",
       "5   196.656745  1939.183725  2247.474548  2078.938369  \n",
       "6   286.503661    85.335557   159.810136   188.943345  \n",
       "7   457.344423    80.382588   805.436772   230.106282  \n",
       "8   870.211362   906.607118  1456.644070   415.464550  \n",
       "9   297.475819   316.397120   937.953072   146.789916  "
      ]
     },
     "execution_count": 141,
     "metadata": {},
     "output_type": "execute_result"
    }
   ],
   "source": [
    "variances"
   ]
  },
  {
   "cell_type": "code",
   "execution_count": 142,
   "metadata": {},
   "outputs": [
    {
     "data": {
      "text/html": [
       "<div>\n",
       "<style scoped>\n",
       "    .dataframe tbody tr th:only-of-type {\n",
       "        vertical-align: middle;\n",
       "    }\n",
       "\n",
       "    .dataframe tbody tr th {\n",
       "        vertical-align: top;\n",
       "    }\n",
       "\n",
       "    .dataframe thead th {\n",
       "        text-align: right;\n",
       "    }\n",
       "</style>\n",
       "<table border=\"1\" class=\"dataframe\">\n",
       "  <thead>\n",
       "    <tr style=\"text-align: right;\">\n",
       "      <th></th>\n",
       "      <th>0</th>\n",
       "      <th>1</th>\n",
       "      <th>2</th>\n",
       "      <th>3</th>\n",
       "      <th>4</th>\n",
       "      <th>5</th>\n",
       "      <th>6</th>\n",
       "      <th>7</th>\n",
       "      <th>8</th>\n",
       "      <th>9</th>\n",
       "      <th>10</th>\n",
       "      <th>11</th>\n",
       "      <th>12</th>\n",
       "      <th>13</th>\n",
       "      <th>14</th>\n",
       "      <th>15</th>\n",
       "    </tr>\n",
       "    <tr>\n",
       "      <th>16</th>\n",
       "      <th></th>\n",
       "      <th></th>\n",
       "      <th></th>\n",
       "      <th></th>\n",
       "      <th></th>\n",
       "      <th></th>\n",
       "      <th></th>\n",
       "      <th></th>\n",
       "      <th></th>\n",
       "      <th></th>\n",
       "      <th></th>\n",
       "      <th></th>\n",
       "      <th></th>\n",
       "      <th></th>\n",
       "      <th></th>\n",
       "      <th></th>\n",
       "    </tr>\n",
       "  </thead>\n",
       "  <tbody>\n",
       "    <tr>\n",
       "      <th>0</th>\n",
       "      <td>33.884615</td>\n",
       "      <td>85.924359</td>\n",
       "      <td>10.429487</td>\n",
       "      <td>56.746154</td>\n",
       "      <td>15.702564</td>\n",
       "      <td>17.261538</td>\n",
       "      <td>53.597436</td>\n",
       "      <td>6.420513</td>\n",
       "      <td>88.008974</td>\n",
       "      <td>32.952564</td>\n",
       "      <td>88.725641</td>\n",
       "      <td>70.919231</td>\n",
       "      <td>56.593590</td>\n",
       "      <td>90.384615</td>\n",
       "      <td>19.146154</td>\n",
       "      <td>73.598718</td>\n",
       "    </tr>\n",
       "    <tr>\n",
       "      <th>1</th>\n",
       "      <td>11.560976</td>\n",
       "      <td>59.068036</td>\n",
       "      <td>42.505777</td>\n",
       "      <td>75.224647</td>\n",
       "      <td>72.234917</td>\n",
       "      <td>89.650834</td>\n",
       "      <td>81.783055</td>\n",
       "      <td>83.273427</td>\n",
       "      <td>72.240051</td>\n",
       "      <td>57.798460</td>\n",
       "      <td>53.672657</td>\n",
       "      <td>35.731707</td>\n",
       "      <td>46.867779</td>\n",
       "      <td>17.401797</td>\n",
       "      <td>58.559692</td>\n",
       "      <td>1.314506</td>\n",
       "    </tr>\n",
       "    <tr>\n",
       "      <th>2</th>\n",
       "      <td>20.180769</td>\n",
       "      <td>77.570513</td>\n",
       "      <td>43.989744</td>\n",
       "      <td>99.466667</td>\n",
       "      <td>69.730769</td>\n",
       "      <td>79.107692</td>\n",
       "      <td>53.561538</td>\n",
       "      <td>45.470513</td>\n",
       "      <td>21.035897</td>\n",
       "      <td>19.261538</td>\n",
       "      <td>10.020513</td>\n",
       "      <td>9.585897</td>\n",
       "      <td>52.234615</td>\n",
       "      <td>5.997436</td>\n",
       "      <td>98.520513</td>\n",
       "      <td>3.115385</td>\n",
       "    </tr>\n",
       "    <tr>\n",
       "      <th>3</th>\n",
       "      <td>25.082058</td>\n",
       "      <td>84.121001</td>\n",
       "      <td>56.154381</td>\n",
       "      <td>99.660640</td>\n",
       "      <td>86.592490</td>\n",
       "      <td>84.710709</td>\n",
       "      <td>64.187761</td>\n",
       "      <td>60.681502</td>\n",
       "      <td>80.335188</td>\n",
       "      <td>42.973574</td>\n",
       "      <td>91.190542</td>\n",
       "      <td>17.059805</td>\n",
       "      <td>50.069541</td>\n",
       "      <td>2.171071</td>\n",
       "      <td>3.179416</td>\n",
       "      <td>5.880389</td>\n",
       "    </tr>\n",
       "    <tr>\n",
       "      <th>4</th>\n",
       "      <td>39.510256</td>\n",
       "      <td>99.453846</td>\n",
       "      <td>20.873077</td>\n",
       "      <td>78.938462</td>\n",
       "      <td>5.643590</td>\n",
       "      <td>50.212821</td>\n",
       "      <td>41.708974</td>\n",
       "      <td>39.330769</td>\n",
       "      <td>85.803846</td>\n",
       "      <td>48.239744</td>\n",
       "      <td>88.030769</td>\n",
       "      <td>60.056410</td>\n",
       "      <td>71.753846</td>\n",
       "      <td>32.146154</td>\n",
       "      <td>62.942308</td>\n",
       "      <td>0.000000</td>\n",
       "    </tr>\n",
       "    <tr>\n",
       "      <th>5</th>\n",
       "      <td>39.418056</td>\n",
       "      <td>90.312500</td>\n",
       "      <td>39.833333</td>\n",
       "      <td>74.244444</td>\n",
       "      <td>57.409722</td>\n",
       "      <td>57.005556</td>\n",
       "      <td>36.812500</td>\n",
       "      <td>27.390278</td>\n",
       "      <td>23.488889</td>\n",
       "      <td>31.558333</td>\n",
       "      <td>34.968056</td>\n",
       "      <td>51.797222</td>\n",
       "      <td>42.616667</td>\n",
       "      <td>61.851389</td>\n",
       "      <td>63.883333</td>\n",
       "      <td>64.354167</td>\n",
       "    </tr>\n",
       "    <tr>\n",
       "      <th>6</th>\n",
       "      <td>85.519444</td>\n",
       "      <td>99.058333</td>\n",
       "      <td>49.584722</td>\n",
       "      <td>86.373611</td>\n",
       "      <td>19.463889</td>\n",
       "      <td>57.437500</td>\n",
       "      <td>7.175000</td>\n",
       "      <td>25.470833</td>\n",
       "      <td>35.768056</td>\n",
       "      <td>2.505556</td>\n",
       "      <td>84.561111</td>\n",
       "      <td>11.908333</td>\n",
       "      <td>60.590278</td>\n",
       "      <td>30.231944</td>\n",
       "      <td>10.379167</td>\n",
       "      <td>21.231944</td>\n",
       "    </tr>\n",
       "    <tr>\n",
       "      <th>7</th>\n",
       "      <td>3.329049</td>\n",
       "      <td>91.638817</td>\n",
       "      <td>46.544987</td>\n",
       "      <td>99.001285</td>\n",
       "      <td>81.448586</td>\n",
       "      <td>81.104113</td>\n",
       "      <td>71.537275</td>\n",
       "      <td>47.368895</td>\n",
       "      <td>52.064267</td>\n",
       "      <td>14.001285</td>\n",
       "      <td>33.924165</td>\n",
       "      <td>16.929306</td>\n",
       "      <td>37.246787</td>\n",
       "      <td>33.888175</td>\n",
       "      <td>80.487147</td>\n",
       "      <td>34.786632</td>\n",
       "    </tr>\n",
       "    <tr>\n",
       "      <th>8</th>\n",
       "      <td>53.979138</td>\n",
       "      <td>80.079277</td>\n",
       "      <td>40.504868</td>\n",
       "      <td>78.703755</td>\n",
       "      <td>54.588317</td>\n",
       "      <td>53.627260</td>\n",
       "      <td>48.429764</td>\n",
       "      <td>26.897079</td>\n",
       "      <td>34.723227</td>\n",
       "      <td>19.134910</td>\n",
       "      <td>43.987483</td>\n",
       "      <td>36.045897</td>\n",
       "      <td>67.798331</td>\n",
       "      <td>66.988873</td>\n",
       "      <td>43.212796</td>\n",
       "      <td>79.058414</td>\n",
       "    </tr>\n",
       "    <tr>\n",
       "      <th>9</th>\n",
       "      <td>67.834492</td>\n",
       "      <td>80.349096</td>\n",
       "      <td>52.671766</td>\n",
       "      <td>81.006954</td>\n",
       "      <td>46.934631</td>\n",
       "      <td>81.095967</td>\n",
       "      <td>52.301808</td>\n",
       "      <td>83.901252</td>\n",
       "      <td>75.072323</td>\n",
       "      <td>72.127955</td>\n",
       "      <td>87.785814</td>\n",
       "      <td>46.531293</td>\n",
       "      <td>61.922114</td>\n",
       "      <td>16.817803</td>\n",
       "      <td>20.702364</td>\n",
       "      <td>4.799722</td>\n",
       "    </tr>\n",
       "  </tbody>\n",
       "</table>\n",
       "</div>"
      ],
      "text/plain": [
       "           0          1          2          3          4          5   \\\n",
       "16                                                                     \n",
       "0   33.884615  85.924359  10.429487  56.746154  15.702564  17.261538   \n",
       "1   11.560976  59.068036  42.505777  75.224647  72.234917  89.650834   \n",
       "2   20.180769  77.570513  43.989744  99.466667  69.730769  79.107692   \n",
       "3   25.082058  84.121001  56.154381  99.660640  86.592490  84.710709   \n",
       "4   39.510256  99.453846  20.873077  78.938462   5.643590  50.212821   \n",
       "5   39.418056  90.312500  39.833333  74.244444  57.409722  57.005556   \n",
       "6   85.519444  99.058333  49.584722  86.373611  19.463889  57.437500   \n",
       "7    3.329049  91.638817  46.544987  99.001285  81.448586  81.104113   \n",
       "8   53.979138  80.079277  40.504868  78.703755  54.588317  53.627260   \n",
       "9   67.834492  80.349096  52.671766  81.006954  46.934631  81.095967   \n",
       "\n",
       "           6          7          8          9          10         11  \\\n",
       "16                                                                     \n",
       "0   53.597436   6.420513  88.008974  32.952564  88.725641  70.919231   \n",
       "1   81.783055  83.273427  72.240051  57.798460  53.672657  35.731707   \n",
       "2   53.561538  45.470513  21.035897  19.261538  10.020513   9.585897   \n",
       "3   64.187761  60.681502  80.335188  42.973574  91.190542  17.059805   \n",
       "4   41.708974  39.330769  85.803846  48.239744  88.030769  60.056410   \n",
       "5   36.812500  27.390278  23.488889  31.558333  34.968056  51.797222   \n",
       "6    7.175000  25.470833  35.768056   2.505556  84.561111  11.908333   \n",
       "7   71.537275  47.368895  52.064267  14.001285  33.924165  16.929306   \n",
       "8   48.429764  26.897079  34.723227  19.134910  43.987483  36.045897   \n",
       "9   52.301808  83.901252  75.072323  72.127955  87.785814  46.531293   \n",
       "\n",
       "           12         13         14         15  \n",
       "16                                              \n",
       "0   56.593590  90.384615  19.146154  73.598718  \n",
       "1   46.867779  17.401797  58.559692   1.314506  \n",
       "2   52.234615   5.997436  98.520513   3.115385  \n",
       "3   50.069541   2.171071   3.179416   5.880389  \n",
       "4   71.753846  32.146154  62.942308   0.000000  \n",
       "5   42.616667  61.851389  63.883333  64.354167  \n",
       "6   60.590278  30.231944  10.379167  21.231944  \n",
       "7   37.246787  33.888175  80.487147  34.786632  \n",
       "8   67.798331  66.988873  43.212796  79.058414  \n",
       "9   61.922114  16.817803  20.702364   4.799722  "
      ]
     },
     "execution_count": 142,
     "metadata": {},
     "output_type": "execute_result"
    }
   ],
   "source": [
    "means"
   ]
  },
  {
   "cell_type": "markdown",
   "metadata": {},
   "source": [
    "__variance__ of the last feature given class 4 is equal to __0!!__ \n",
    "\n",
    "__we should be aware of this!__"
   ]
  },
  {
   "cell_type": "code",
   "execution_count": 134,
   "metadata": {},
   "outputs": [],
   "source": [
    "def x_given_c(x, mean, var):\n",
    "    p = 1/(np.sqrt(2*np.pi*var)) * np.exp((-(x-mean)**2)/(2*var))\n",
    "    return p"
   ]
  },
  {
   "cell_type": "code",
   "execution_count": 145,
   "metadata": {},
   "outputs": [],
   "source": [
    "means = means.values\n",
    "variances = variances.values"
   ]
  },
  {
   "cell_type": "code",
   "execution_count": 146,
   "metadata": {},
   "outputs": [],
   "source": [
    "X_test = data_test.iloc[:,:-1]\n",
    "X_test = X_test.values"
   ]
  },
  {
   "cell_type": "code",
   "execution_count": 150,
   "metadata": {},
   "outputs": [],
   "source": [
    "P_vals = np.zeros((X_test.shape[0],10))\n",
    "for i in range(X_test.shape[0]):\n",
    "    for j in range(10):\n",
    "        if(j != 4):\n",
    "            P_vals[i,j] = np.prod(x_given_c(X_test[i,:],means[j,:], variances[j,:])) * priors[j]\n",
    "        else:\n",
    "             P_vals[i,j] = np.prod(x_given_c(X_test[i,:-1],means[j,:-1], variances[j,:-1])) * priors[j]"
   ]
  },
  {
   "cell_type": "code",
   "execution_count": 151,
   "metadata": {},
   "outputs": [],
   "source": [
    "y_pred = np.argmax(P_vals,axis=1)"
   ]
  },
  {
   "cell_type": "code",
   "execution_count": 153,
   "metadata": {},
   "outputs": [
    {
     "data": {
      "text/plain": [
       "0.8224699828473413"
      ]
     },
     "execution_count": 153,
     "metadata": {},
     "output_type": "execute_result"
    }
   ],
   "source": [
    "np.sum(y_pred == y_test)/y_test.shape[0]"
   ]
  },
  {
   "cell_type": "markdown",
   "metadata": {},
   "source": [
    "The __accuracy__ for the test data is about __82%__"
   ]
  },
  {
   "cell_type": "markdown",
   "metadata": {},
   "source": [
    "the accuracy for both models are somehow as same as each other. The Markov property that we assumes was not a bad assumption and it was somehow True."
   ]
  },
  {
   "cell_type": "markdown",
   "metadata": {},
   "source": [
    "## Syndata using sklearn"
   ]
  },
  {
   "cell_type": "code",
   "execution_count": 154,
   "metadata": {},
   "outputs": [],
   "source": [
    "data_train = pd.read_csv('Syndata-train.csv')\n",
    "data_test = pd.read_csv('Syndata-test.csv')"
   ]
  },
  {
   "cell_type": "code",
   "execution_count": 155,
   "metadata": {},
   "outputs": [
    {
     "data": {
      "text/html": [
       "<div>\n",
       "<style scoped>\n",
       "    .dataframe tbody tr th:only-of-type {\n",
       "        vertical-align: middle;\n",
       "    }\n",
       "\n",
       "    .dataframe tbody tr th {\n",
       "        vertical-align: top;\n",
       "    }\n",
       "\n",
       "    .dataframe thead th {\n",
       "        text-align: right;\n",
       "    }\n",
       "</style>\n",
       "<table border=\"1\" class=\"dataframe\">\n",
       "  <thead>\n",
       "    <tr style=\"text-align: right;\">\n",
       "      <th></th>\n",
       "      <th>feature1</th>\n",
       "      <th>feature2</th>\n",
       "      <th>label</th>\n",
       "    </tr>\n",
       "  </thead>\n",
       "  <tbody>\n",
       "    <tr>\n",
       "      <th>0</th>\n",
       "      <td>-0.586110</td>\n",
       "      <td>-0.974014</td>\n",
       "      <td>0.0</td>\n",
       "    </tr>\n",
       "    <tr>\n",
       "      <th>1</th>\n",
       "      <td>-1.503634</td>\n",
       "      <td>-0.505257</td>\n",
       "      <td>0.0</td>\n",
       "    </tr>\n",
       "    <tr>\n",
       "      <th>2</th>\n",
       "      <td>-1.280899</td>\n",
       "      <td>-0.152307</td>\n",
       "      <td>0.0</td>\n",
       "    </tr>\n",
       "    <tr>\n",
       "      <th>3</th>\n",
       "      <td>-0.023598</td>\n",
       "      <td>-1.526080</td>\n",
       "      <td>0.0</td>\n",
       "    </tr>\n",
       "    <tr>\n",
       "      <th>4</th>\n",
       "      <td>1.336478</td>\n",
       "      <td>-1.159745</td>\n",
       "      <td>1.0</td>\n",
       "    </tr>\n",
       "  </tbody>\n",
       "</table>\n",
       "</div>"
      ],
      "text/plain": [
       "   feature1  feature2  label\n",
       "0 -0.586110 -0.974014    0.0\n",
       "1 -1.503634 -0.505257    0.0\n",
       "2 -1.280899 -0.152307    0.0\n",
       "3 -0.023598 -1.526080    0.0\n",
       "4  1.336478 -1.159745    1.0"
      ]
     },
     "execution_count": 155,
     "metadata": {},
     "output_type": "execute_result"
    }
   ],
   "source": [
    "data_train.head()"
   ]
  },
  {
   "cell_type": "code",
   "execution_count": 156,
   "metadata": {},
   "outputs": [],
   "source": [
    "y_train = data_train['label'].values\n",
    "X_train = data_train.iloc[:,:-1].values\n",
    "y_test = data_test['label'].values\n",
    "X_test = data_test.iloc[:,:-1].values"
   ]
  },
  {
   "cell_type": "code",
   "execution_count": 160,
   "metadata": {},
   "outputs": [],
   "source": [
    "from sklearn.linear_model import LogisticRegression\n",
    "from sklearn import metrics\n",
    "\n",
    "model = LogisticRegression( solver = 'lbfgs')\n",
    "model.fit(X_train,y_train)\n",
    "y_pred = model.predict(X_test)"
   ]
  },
  {
   "cell_type": "code",
   "execution_count": 161,
   "metadata": {},
   "outputs": [
    {
     "name": "stdout",
     "output_type": "stream",
     "text": [
      "Accuracy: 0.928\n",
      "Precision: 0.9417879417879418\n",
      "Recall: 0.9114688128772636\n",
      "Error type 1: 0.055666003976143144\n",
      "Error type 2: 0.08853118712273644\n",
      "[[475  28]\n",
      " [ 44 453]]\n"
     ]
    }
   ],
   "source": [
    "conf_mat = metrics.confusion_matrix(y_test,y_pred)\n",
    "error1 = conf_mat[0][1]/(conf_mat[0][0]+conf_mat[0][1])\n",
    "error2 = 1-metrics.recall_score(y_test, y_pred)\n",
    "\n",
    "\n",
    "print(\"Accuracy:\",metrics.accuracy_score(y_test, y_pred))\n",
    "print(\"Precision:\",metrics.precision_score(y_test, y_pred))\n",
    "print(\"Recall:\",metrics.recall_score(y_test, y_pred))\n",
    "print(\"Error type 1:\",error1)\n",
    "print(\"Error type 2:\",error2)\n",
    "print(conf_mat)"
   ]
  },
  {
   "cell_type": "code",
   "execution_count": 162,
   "metadata": {},
   "outputs": [
    {
     "data": {
      "text/plain": [
       "Text(0.5, 257.44, 'Predicted label')"
      ]
     },
     "execution_count": 162,
     "metadata": {},
     "output_type": "execute_result"
    },
    {
     "data": {
      "image/png": "[encoded data removed]",
      "text/plain": [
       "<Figure size 432x288 with 2 Axes>"
      ]
     },
     "metadata": {
      "needs_background": "light"
     },
     "output_type": "display_data"
    }
   ],
   "source": [
    "class_names=[0,1] # name  of classes\n",
    "fig, ax = plt.subplots()\n",
    "tick_marks = np.arange(len(class_names))\n",
    "plt.xticks(tick_marks, class_names)\n",
    "plt.yticks(tick_marks, class_names)\n",
    "# create heatmap\n",
    "sns.heatmap(pd.DataFrame(conf_mat), annot=True, cmap=\"YlGnBu\" ,fmt='g')\n",
    "ax.xaxis.set_label_position(\"top\")\n",
    "plt.tight_layout()\n",
    "plt.title('Confusion matrix', y=1.1)\n",
    "plt.ylabel('Actual label')\n",
    "plt.xlabel('Predicted label')"
   ]
  },
  {
   "cell_type": "code",
   "execution_count": 164,
   "metadata": {},
   "outputs": [
    {
     "name": "stdout",
     "output_type": "stream",
     "text": [
      "[[4.45641823 1.06285644]]\n"
     ]
    }
   ],
   "source": [
    "print(model.coef_)"
   ]
  },
  {
   "cell_type": "code",
   "execution_count": 169,
   "metadata": {},
   "outputs": [
    {
     "data": {
      "image/png": "[encoded data removed]",
      "text/plain": [
       "<Figure size 432x288 with 1 Axes>"
      ]
     },
     "metadata": {
      "needs_background": "light"
     },
     "output_type": "display_data"
    }
   ],
   "source": [
    "from mlxtend.plotting import plot_decision_regions\n",
    "\n",
    "# Plotting decision regions\n",
    "plot_decision_regions(X_test, y_test.astype(int), clf=model, legend=1)\n",
    "\n",
    "# Adding axes annotations\n",
    "plt.xlabel('feature 1')\n",
    "plt.ylabel('feature 2')\n",
    "plt.title('Logistic regression with no penalty')\n",
    "plt.show()"
   ]
  },
  {
   "cell_type": "code",
   "execution_count": 173,
   "metadata": {},
   "outputs": [],
   "source": [
    "model = LogisticRegression( solver = 'liblinear' , penalty='l1' , C=0.1)\n",
    "model.fit(X_train,y_train)\n",
    "y_pred = model.predict(X_test)"
   ]
  },
  {
   "cell_type": "code",
   "execution_count": 174,
   "metadata": {},
   "outputs": [
    {
     "name": "stdout",
     "output_type": "stream",
     "text": [
      "Accuracy: 0.929\n",
      "Precision: 0.94375\n",
      "Recall: 0.9114688128772636\n",
      "Error type 1: 0.0536779324055666\n",
      "Error type 2: 0.08853118712273644\n",
      "[[476  27]\n",
      " [ 44 453]]\n"
     ]
    }
   ],
   "source": [
    "conf_mat = metrics.confusion_matrix(y_test,y_pred)\n",
    "error1 = conf_mat[0][1]/(conf_mat[0][0]+conf_mat[0][1])\n",
    "error2 = 1-metrics.recall_score(y_test, y_pred)\n",
    "\n",
    "\n",
    "print(\"Accuracy:\",metrics.accuracy_score(y_test, y_pred))\n",
    "print(\"Precision:\",metrics.precision_score(y_test, y_pred))\n",
    "print(\"Recall:\",metrics.recall_score(y_test, y_pred))\n",
    "print(\"Error type 1:\",error1)\n",
    "print(\"Error type 2:\",error2)\n",
    "print(conf_mat)"
   ]
  },
  {
   "cell_type": "code",
   "execution_count": 175,
   "metadata": {},
   "outputs": [
    {
     "data": {
      "text/plain": [
       "Text(0.5, 257.44, 'Predicted label')"
      ]
     },
     "execution_count": 175,
     "metadata": {},
     "output_type": "execute_result"
    },
    {
     "data": {
      "image/png": "[encoded data removed]",
      "text/plain": [
       "<Figure size 432x288 with 2 Axes>"
      ]
     },
     "metadata": {
      "needs_background": "light"
     },
     "output_type": "display_data"
    }
   ],
   "source": [
    "class_names=[0,1] # name  of classes\n",
    "fig, ax = plt.subplots()\n",
    "tick_marks = np.arange(len(class_names))\n",
    "plt.xticks(tick_marks, class_names)\n",
    "plt.yticks(tick_marks, class_names)\n",
    "# create heatmap\n",
    "sns.heatmap(pd.DataFrame(conf_mat), annot=True, cmap=\"YlGnBu\" ,fmt='g')\n",
    "ax.xaxis.set_label_position(\"top\")\n",
    "plt.tight_layout()\n",
    "plt.title('Confusion matrix', y=1.1)\n",
    "plt.ylabel('Actual label')\n",
    "plt.xlabel('Predicted label')"
   ]
  },
  {
   "cell_type": "code",
   "execution_count": 176,
   "metadata": {},
   "outputs": [
    {
     "name": "stdout",
     "output_type": "stream",
     "text": [
      "[[4.29269027 0.99450382]]\n"
     ]
    }
   ],
   "source": [
    "print(model.coef_)"
   ]
  },
  {
   "cell_type": "code",
   "execution_count": 178,
   "metadata": {},
   "outputs": [
    {
     "data": {
      "image/png": "[encoded data removed]",
      "text/plain": [
       "<Figure size 432x288 with 1 Axes>"
      ]
     },
     "metadata": {
      "needs_background": "light"
     },
     "output_type": "display_data"
    }
   ],
   "source": [
    "from mlxtend.plotting import plot_decision_regions\n",
    "\n",
    "# Plotting decision regions\n",
    "plot_decision_regions(X_test, y_test.astype(int), clf=model, legend=1)\n",
    "\n",
    "# Adding axes annotations\n",
    "plt.xlabel('feature 1')\n",
    "plt.ylabel('feature 2')\n",
    "plt.title('Logistic regression with l1 regularization C=0.1')\n",
    "plt.show()"
   ]
  },
  {
   "cell_type": "code",
   "execution_count": 183,
   "metadata": {},
   "outputs": [],
   "source": [
    "model = LogisticRegression( solver = 'liblinear' , penalty='l1' , C=0.01)\n",
    "model.fit(X_train,y_train)\n",
    "y_pred = model.predict(X_test)"
   ]
  },
  {
   "cell_type": "code",
   "execution_count": 184,
   "metadata": {},
   "outputs": [
    {
     "name": "stdout",
     "output_type": "stream",
     "text": [
      "Accuracy: 0.924\n",
      "Precision: 0.9376299376299376\n",
      "Recall: 0.9074446680080482\n",
      "Error type 1: 0.05964214711729622\n",
      "Error type 2: 0.09255533199195176\n",
      "[[473  30]\n",
      " [ 46 451]]\n"
     ]
    }
   ],
   "source": [
    "conf_mat = metrics.confusion_matrix(y_test,y_pred)\n",
    "error1 = conf_mat[0][1]/(conf_mat[0][0]+conf_mat[0][1])\n",
    "error2 = 1-metrics.recall_score(y_test, y_pred)\n",
    "\n",
    "\n",
    "print(\"Accuracy:\",metrics.accuracy_score(y_test, y_pred))\n",
    "print(\"Precision:\",metrics.precision_score(y_test, y_pred))\n",
    "print(\"Recall:\",metrics.recall_score(y_test, y_pred))\n",
    "print(\"Error type 1:\",error1)\n",
    "print(\"Error type 2:\",error2)\n",
    "print(conf_mat)"
   ]
  },
  {
   "cell_type": "code",
   "execution_count": 185,
   "metadata": {},
   "outputs": [
    {
     "data": {
      "text/plain": [
       "Text(0.5, 257.44, 'Predicted label')"
      ]
     },
     "execution_count": 185,
     "metadata": {},
     "output_type": "execute_result"
    },
    {
     "data": {
      "image/png": "[encoded data removed]",
      "text/plain": [
       "<Figure size 432x288 with 2 Axes>"
      ]
     },
     "metadata": {
      "needs_background": "light"
     },
     "output_type": "display_data"
    }
   ],
   "source": [
    "class_names=[0,1] # name  of classes\n",
    "fig, ax = plt.subplots()\n",
    "tick_marks = np.arange(len(class_names))\n",
    "plt.xticks(tick_marks, class_names)\n",
    "plt.yticks(tick_marks, class_names)\n",
    "# create heatmap\n",
    "sns.heatmap(pd.DataFrame(conf_mat), annot=True, cmap=\"YlGnBu\" ,fmt='g')\n",
    "ax.xaxis.set_label_position(\"top\")\n",
    "plt.tight_layout()\n",
    "plt.title('Confusion matrix', y=1.1)\n",
    "plt.ylabel('Actual label')\n",
    "plt.xlabel('Predicted label')"
   ]
  },
  {
   "cell_type": "code",
   "execution_count": 186,
   "metadata": {},
   "outputs": [
    {
     "name": "stdout",
     "output_type": "stream",
     "text": [
      "[[3.0027118  0.54649813]]\n"
     ]
    }
   ],
   "source": [
    "print(model.coef_)"
   ]
  },
  {
   "cell_type": "code",
   "execution_count": 188,
   "metadata": {},
   "outputs": [
    {
     "data": {
      "image/png": "[encoded data removed]",
      "text/plain": [
       "<Figure size 432x288 with 1 Axes>"
      ]
     },
     "metadata": {
      "needs_background": "light"
     },
     "output_type": "display_data"
    }
   ],
   "source": [
    "from mlxtend.plotting import plot_decision_regions\n",
    "\n",
    "# Plotting decision regions\n",
    "plot_decision_regions(X_test, y_test.astype(int), clf=model, legend=1)\n",
    "\n",
    "# Adding axes annotations\n",
    "plt.xlabel('feature 1')\n",
    "plt.ylabel('feature 2')\n",
    "plt.title('Logistic regression with l1 regularization C=0.01')\n",
    "plt.show()"
   ]
  },
  {
   "cell_type": "code",
   "execution_count": 189,
   "metadata": {},
   "outputs": [],
   "source": [
    "model = LogisticRegression( solver = 'lbfgs' , penalty='l2' , C=0.1)\n",
    "model.fit(X_train,y_train)\n",
    "y_pred = model.predict(X_test)"
   ]
  },
  {
   "cell_type": "code",
   "execution_count": 190,
   "metadata": {},
   "outputs": [
    {
     "name": "stdout",
     "output_type": "stream",
     "text": [
      "Accuracy: 0.928\n",
      "Precision: 0.9417879417879418\n",
      "Recall: 0.9114688128772636\n",
      "Error type 1: 0.055666003976143144\n",
      "Error type 2: 0.08853118712273644\n",
      "[[475  28]\n",
      " [ 44 453]]\n"
     ]
    }
   ],
   "source": [
    "conf_mat = metrics.confusion_matrix(y_test,y_pred)\n",
    "error1 = conf_mat[0][1]/(conf_mat[0][0]+conf_mat[0][1])\n",
    "error2 = 1-metrics.recall_score(y_test, y_pred)\n",
    "\n",
    "\n",
    "print(\"Accuracy:\",metrics.accuracy_score(y_test, y_pred))\n",
    "print(\"Precision:\",metrics.precision_score(y_test, y_pred))\n",
    "print(\"Recall:\",metrics.recall_score(y_test, y_pred))\n",
    "print(\"Error type 1:\",error1)\n",
    "print(\"Error type 2:\",error2)\n",
    "print(conf_mat)"
   ]
  },
  {
   "cell_type": "code",
   "execution_count": 191,
   "metadata": {},
   "outputs": [
    {
     "data": {
      "text/plain": [
       "Text(0.5, 257.44, 'Predicted label')"
      ]
     },
     "execution_count": 191,
     "metadata": {},
     "output_type": "execute_result"
    },
    {
     "data": {
      "image/png": "[encoded data removed]",
      "text/plain": [
       "<Figure size 432x288 with 2 Axes>"
      ]
     },
     "metadata": {
      "needs_background": "light"
     },
     "output_type": "display_data"
    }
   ],
   "source": [
    "class_names=[0,1] # name  of classes\n",
    "fig, ax = plt.subplots()\n",
    "tick_marks = np.arange(len(class_names))\n",
    "plt.xticks(tick_marks, class_names)\n",
    "plt.yticks(tick_marks, class_names)\n",
    "# create heatmap\n",
    "sns.heatmap(pd.DataFrame(conf_mat), annot=True, cmap=\"YlGnBu\" ,fmt='g')\n",
    "ax.xaxis.set_label_position(\"top\")\n",
    "plt.tight_layout()\n",
    "plt.title('Confusion matrix', y=1.1)\n",
    "plt.ylabel('Actual label')\n",
    "plt.xlabel('Predicted label')"
   ]
  },
  {
   "cell_type": "code",
   "execution_count": 192,
   "metadata": {},
   "outputs": [
    {
     "name": "stdout",
     "output_type": "stream",
     "text": [
      "[[3.83672701 0.89718383]]\n"
     ]
    }
   ],
   "source": [
    "print(model.coef_)"
   ]
  },
  {
   "cell_type": "code",
   "execution_count": 193,
   "metadata": {},
   "outputs": [
    {
     "data": {
      "image/png": "[encoded data removed]",
      "text/plain": [
       "<Figure size 432x288 with 1 Axes>"
      ]
     },
     "metadata": {
      "needs_background": "light"
     },
     "output_type": "display_data"
    }
   ],
   "source": [
    "from mlxtend.plotting import plot_decision_regions\n",
    "\n",
    "# Plotting decision regions\n",
    "plot_decision_regions(X_test, y_test.astype(int), clf=model, legend=1)\n",
    "\n",
    "# Adding axes annotations\n",
    "plt.xlabel('feature 1')\n",
    "plt.ylabel('feature 2')\n",
    "plt.title('Logistic regression with l2 regularization C=0.1')\n",
    "plt.show()"
   ]
  },
  {
   "cell_type": "code",
   "execution_count": 194,
   "metadata": {},
   "outputs": [],
   "source": [
    "model = LogisticRegression( solver = 'lbfgs' , penalty='l2' , C=0.01)\n",
    "model.fit(X_train,y_train)\n",
    "y_pred = model.predict(X_test)"
   ]
  },
  {
   "cell_type": "code",
   "execution_count": 195,
   "metadata": {},
   "outputs": [
    {
     "name": "stdout",
     "output_type": "stream",
     "text": [
      "Accuracy: 0.929\n",
      "Precision: 0.9456066945606695\n",
      "Recall: 0.9094567404426559\n",
      "Error type 1: 0.05168986083499006\n",
      "Error type 2: 0.0905432595573441\n",
      "[[477  26]\n",
      " [ 45 452]]\n"
     ]
    }
   ],
   "source": [
    "conf_mat = metrics.confusion_matrix(y_test,y_pred)\n",
    "error1 = conf_mat[0][1]/(conf_mat[0][0]+conf_mat[0][1])\n",
    "error2 = 1-metrics.recall_score(y_test, y_pred)\n",
    "\n",
    "\n",
    "print(\"Accuracy:\",metrics.accuracy_score(y_test, y_pred))\n",
    "print(\"Precision:\",metrics.precision_score(y_test, y_pred))\n",
    "print(\"Recall:\",metrics.recall_score(y_test, y_pred))\n",
    "print(\"Error type 1:\",error1)\n",
    "print(\"Error type 2:\",error2)\n",
    "print(conf_mat)"
   ]
  },
  {
   "cell_type": "code",
   "execution_count": 196,
   "metadata": {},
   "outputs": [
    {
     "data": {
      "text/plain": [
       "Text(0.5, 257.44, 'Predicted label')"
      ]
     },
     "execution_count": 196,
     "metadata": {},
     "output_type": "execute_result"
    },
    {
     "data": {
      "image/png": "[encoded data removed]",
      "text/plain": [
       "<Figure size 432x288 with 2 Axes>"
      ]
     },
     "metadata": {
      "needs_background": "light"
     },
     "output_type": "display_data"
    }
   ],
   "source": [
    "class_names=[0,1] # name  of classes\n",
    "fig, ax = plt.subplots()\n",
    "tick_marks = np.arange(len(class_names))\n",
    "plt.xticks(tick_marks, class_names)\n",
    "plt.yticks(tick_marks, class_names)\n",
    "# create heatmap\n",
    "sns.heatmap(pd.DataFrame(conf_mat), annot=True, cmap=\"YlGnBu\" ,fmt='g')\n",
    "ax.xaxis.set_label_position(\"top\")\n",
    "plt.tight_layout()\n",
    "plt.title('Confusion matrix', y=1.1)\n",
    "plt.ylabel('Actual label')\n",
    "plt.xlabel('Predicted label')"
   ]
  },
  {
   "cell_type": "code",
   "execution_count": 197,
   "metadata": {},
   "outputs": [
    {
     "name": "stdout",
     "output_type": "stream",
     "text": [
      "[[2.30328743 0.48710126]]\n"
     ]
    }
   ],
   "source": [
    "print(model.coef_)"
   ]
  },
  {
   "cell_type": "code",
   "execution_count": 199,
   "metadata": {},
   "outputs": [
    {
     "data": {
      "image/png": "[encoded data removed]",
      "text/plain": [
       "<Figure size 432x288 with 1 Axes>"
      ]
     },
     "metadata": {
      "needs_background": "light"
     },
     "output_type": "display_data"
    }
   ],
   "source": [
    "from mlxtend.plotting import plot_decision_regions\n",
    "\n",
    "# Plotting decision regions\n",
    "plot_decision_regions(X_test, y_test.astype(int), clf=model, legend=1)\n",
    "\n",
    "# Adding axes annotations\n",
    "plt.xlabel('feature 1')\n",
    "plt.ylabel('feature 2')\n",
    "plt.title('Logistic regression with l2 regularization C=0.01')\n",
    "plt.show()"
   ]
  },
  {
   "cell_type": "markdown",
   "metadata": {},
   "source": [
    "as we can see when we increase the lambda (decreasing C), the penalty(regulatization) term got __larger__ and the wight matrix elements got __smaller__.\n",
    "for L1 regularization it tries to make one feature 0 (we can use it as feature selection) but with l2 regularization it tries to make both feature small"
   ]
  },
  {
   "cell_type": "markdown",
   "metadata": {},
   "source": [
    "## finding best parameters"
   ]
  },
  {
   "cell_type": "code",
   "execution_count": 200,
   "metadata": {},
   "outputs": [
    {
     "name": "stdout",
     "output_type": "stream",
     "text": [
      "Fitting 10 folds for each of 26 candidates, totalling 260 fits\n"
     ]
    },
    {
     "name": "stderr",
     "output_type": "stream",
     "text": [
      "[Parallel(n_jobs=1)]: Using backend SequentialBackend with 1 concurrent workers.\n"
     ]
    },
    {
     "name": "stdout",
     "output_type": "stream",
     "text": [
      "{'C': 0.1, 'penalty': 'l1', 'solver': 'liblinear'}\n",
      "0.922\n"
     ]
    },
    {
     "name": "stderr",
     "output_type": "stream",
     "text": [
      "[Parallel(n_jobs=1)]: Done 260 out of 260 | elapsed:    0.8s finished\n"
     ]
    }
   ],
   "source": [
    "from sklearn.model_selection import GridSearchCV\n",
    "\n",
    "model = LogisticRegression()\n",
    "param_grid = { \n",
    "    'penalty' : ['l1', 'l2'],\n",
    "    'C' : [1000, 100, 20, 10, 4, 2, 1, 0.2, 0.1, 0.05, 0.02, 0.014, 0.01],\n",
    "    'solver' : ['liblinear']}\n",
    "\n",
    "clf=GridSearchCV(model,param_grid, cv=10, verbose=True)\n",
    "clf.fit(X_train,y_train)\n",
    "logreg_best_params = clf.best_params_\n",
    "print(logreg_best_params)\n",
    "print(clf.best_score_)"
   ]
  },
  {
   "cell_type": "markdown",
   "metadata": {},
   "source": [
    "The best parameters are __{'C': 0.1, 'penalty': 'l1', 'solver': 'liblinear'}__"
   ]
  },
  {
   "cell_type": "code",
   "execution_count": 202,
   "metadata": {},
   "outputs": [],
   "source": [
    "best = LogisticRegression( solver = 'liblinear' , penalty='l1' , C=0.1)\n",
    "best.fit(X_train,y_train)\n",
    "y_pred = best.predict(X_test)"
   ]
  },
  {
   "cell_type": "code",
   "execution_count": 203,
   "metadata": {},
   "outputs": [
    {
     "name": "stdout",
     "output_type": "stream",
     "text": [
      "Accuracy: 0.929\n",
      "Precision: 0.94375\n",
      "Recall: 0.9114688128772636\n",
      "Error type 1: 0.0536779324055666\n",
      "Error type 2: 0.08853118712273644\n",
      "[[476  27]\n",
      " [ 44 453]]\n"
     ]
    }
   ],
   "source": [
    "conf_mat = metrics.confusion_matrix(y_test,y_pred)\n",
    "error1 = conf_mat[0][1]/(conf_mat[0][0]+conf_mat[0][1])\n",
    "error2 = 1-metrics.recall_score(y_test, y_pred)\n",
    "\n",
    "\n",
    "print(\"Accuracy:\",metrics.accuracy_score(y_test, y_pred))\n",
    "print(\"Precision:\",metrics.precision_score(y_test, y_pred))\n",
    "print(\"Recall:\",metrics.recall_score(y_test, y_pred))\n",
    "print(\"Error type 1:\",error1)\n",
    "print(\"Error type 2:\",error2)\n",
    "print(conf_mat)"
   ]
  },
  {
   "cell_type": "code",
   "execution_count": 204,
   "metadata": {},
   "outputs": [
    {
     "data": {
      "text/plain": [
       "Text(0.5, 257.44, 'Predicted label')"
      ]
     },
     "execution_count": 204,
     "metadata": {},
     "output_type": "execute_result"
    },
    {
     "data": {
      "image/png": "[encoded data removed]",
      "text/plain": [
       "<Figure size 432x288 with 2 Axes>"
      ]
     },
     "metadata": {
      "needs_background": "light"
     },
     "output_type": "display_data"
    }
   ],
   "source": [
    "class_names=[0,1] # name  of classes\n",
    "fig, ax = plt.subplots()\n",
    "tick_marks = np.arange(len(class_names))\n",
    "plt.xticks(tick_marks, class_names)\n",
    "plt.yticks(tick_marks, class_names)\n",
    "# create heatmap\n",
    "sns.heatmap(pd.DataFrame(conf_mat), annot=True, cmap=\"YlGnBu\" ,fmt='g')\n",
    "ax.xaxis.set_label_position(\"top\")\n",
    "plt.tight_layout()\n",
    "plt.title('Confusion matrix', y=1.1)\n",
    "plt.ylabel('Actual label')\n",
    "plt.xlabel('Predicted label')"
   ]
  },
  {
   "cell_type": "code",
   "execution_count": null,
   "metadata": {},
   "outputs": [],
   "source": []
  }
 ],
 "metadata": {
  "kernelspec": {
   "display_name": "Python 3",
   "language": "python",
   "name": "python3"
  },
  "language_info": {
   "codemirror_mode": {
    "name": "ipython",
    "version": 3
   },
   "file_extension": ".py",
   "mimetype": "text/x-python",
   "name": "python",
   "nbconvert_exporter": "python",
   "pygments_lexer": "ipython3",
   "version": "3.7.3"
  }
 },
 "nbformat": 4,
 "nbformat_minor": 2
}
